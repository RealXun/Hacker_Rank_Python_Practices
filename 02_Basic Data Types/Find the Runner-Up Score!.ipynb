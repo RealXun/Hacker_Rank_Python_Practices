{
 "cells": [
  {
   "cell_type": "markdown",
   "metadata": {},
   "source": [
    "# Find the Runner-Up Score!"
   ]
  },
  {
   "cell_type": "markdown",
   "metadata": {},
   "source": [
    "Given the participants' score sheet for your University Sports Day, you are required to find the runner-up score. You are given **n** scores. Store them in a list and find the score of the runner-up."
   ]
  },
  {
   "cell_type": "markdown",
   "metadata": {},
   "source": [
    "**Input Format**\n",
    "\n",
    "The first line contains ```. The second line contains an array **A[ ]**  of **n** integers each separated by a space."
   ]
  },
  {
   "cell_type": "markdown",
   "metadata": {},
   "source": [
    "**Constraints**\n",
    "```\n",
    "2<=n<=10\n",
    "\n",
    "-100<=A[i]<=100\n",
    "```"
   ]
  },
  {
   "cell_type": "markdown",
   "metadata": {},
   "source": [
    "**Output Format**\n",
    "\n",
    "Print the runner-up score."
   ]
  },
  {
   "cell_type": "markdown",
   "metadata": {},
   "source": [
    "**Sample Input 0**\n",
    "\n",
    "```\n",
    "5\n",
    "2 3 6 6 5\n",
    "```"
   ]
  },
  {
   "cell_type": "markdown",
   "metadata": {},
   "source": [
    "**Sample Output 0**\n",
    "```\n",
    "5\n",
    "```"
   ]
  },
  {
   "cell_type": "markdown",
   "metadata": {},
   "source": [
    "**Explanation 0**\n",
    "\n",
    "Given list is [2,3,6,6,5] . The maximum score is **6** , second maximum is **5**. Hence, we print **5** as the runner-up score."
   ]
  },
  {
   "cell_type": "markdown",
   "metadata": {},
   "source": [
    "## Solution"
   ]
  },
  {
   "cell_type": "code",
   "execution_count": null,
   "metadata": {},
   "outputs": [],
   "source": [
    "if __name__ == '__main__':\n",
    "    n = int(input())\n",
    "    arr = map(int, input().split())\n",
    "    # We create a new list using set to remove duplicates\n",
    "    new_list = set(arr)\n",
    "\n",
    "    #to store the old max number\n",
    "    #old_max=[] \n",
    "    \n",
    "    # Adding the largest element from temp list\n",
    "    # old_max.append(max(new_list))\n",
    "\n",
    "    # Removing the largest element from temp list \n",
    "    new_list.remove(max(new_list))\n",
    "\n",
    "    # Print old list to see it did not change\n",
    "    # print(list1)\n",
    "\n",
    "    # print old max list to see the numbers\n",
    "    #print(old_max)\n",
    "\n",
    "    print(max(new_list))"
   ]
  }
 ],
 "metadata": {
  "kernelspec": {
   "display_name": "Python 3.7.4 64-bit",
   "language": "python",
   "name": "python3"
  },
  "language_info": {
   "name": "python",
   "version": "3.7.4"
  },
  "orig_nbformat": 4,
  "vscode": {
   "interpreter": {
    "hash": "e447912bd1abc126f1a1b02664d51750c99209b93aa0b1eb72bb880925256d69"
   }
  }
 },
 "nbformat": 4,
 "nbformat_minor": 2
}
